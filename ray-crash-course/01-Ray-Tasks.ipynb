{
  "cells": [
    {
      "cell_type": "markdown",
      "id": "15a16c45-b3a5-4c4f-81d4-8bec7c83892d",
      "metadata": {
        "id": "15a16c45-b3a5-4c4f-81d4-8bec7c83892d"
      },
      "source": [
        "# A Guided Tour of Ray Core: Remote Stateless Tasks\n",
        "![Anyscale Academy](https://github.com/thimotyb/academy-ray/blob/main/images/AnyscaleAcademyLogo.png?raw=1)\n",
        "\n",
        "© 2019-2022, Anyscale. All Rights Reserved\n",
        "\n",
        "<img src=\"https://github.com/thimotyb/academy-ray/blob/main/images/ray_basic_patterns.png?raw=1\" height=\"25%\" width=\"50%\">"
      ]
    },
    {
      "cell_type": "code",
      "source": [
        "!pip install ray[all]\n",
        "# pip install -U \"ray[data,train,tune,serve]\""
      ],
      "metadata": {
        "id": "5GzzypEcLitj",
        "outputId": "237cae39-dd2e-4501-c81a-65557f12cb40",
        "colab": {
          "base_uri": "https://localhost:8080/",
          "height": 1000
        }
      },
      "id": "5GzzypEcLitj",
      "execution_count": 2,
      "outputs": [
        {
          "output_type": "stream",
          "name": "stdout",
          "text": [
            "Collecting ray[all]\n",
            "  Downloading ray-2.49.1-cp312-cp312-manylinux2014_x86_64.whl.metadata (21 kB)\n",
            "Requirement already satisfied: click>=7.0 in /usr/local/lib/python3.12/dist-packages (from ray[all]) (8.2.1)\n",
            "Requirement already satisfied: filelock in /usr/local/lib/python3.12/dist-packages (from ray[all]) (3.19.1)\n",
            "Requirement already satisfied: jsonschema in /usr/local/lib/python3.12/dist-packages (from ray[all]) (4.25.1)\n",
            "Requirement already satisfied: msgpack<2.0.0,>=1.0.0 in /usr/local/lib/python3.12/dist-packages (from ray[all]) (1.1.1)\n",
            "Requirement already satisfied: packaging in /usr/local/lib/python3.12/dist-packages (from ray[all]) (25.0)\n",
            "Requirement already satisfied: protobuf>=3.20.3 in /usr/local/lib/python3.12/dist-packages (from ray[all]) (5.29.5)\n",
            "Requirement already satisfied: pyyaml in /usr/local/lib/python3.12/dist-packages (from ray[all]) (6.0.2)\n",
            "Requirement already satisfied: requests in /usr/local/lib/python3.12/dist-packages (from ray[all]) (2.32.4)\n",
            "Collecting py-spy>=0.4.0 (from ray[all])\n",
            "  Downloading py_spy-0.4.1-py2.py3-none-manylinux_2_5_x86_64.manylinux1_x86_64.whl.metadata (510 bytes)\n",
            "Requirement already satisfied: fastapi in /usr/local/lib/python3.12/dist-packages (from ray[all]) (0.116.1)\n",
            "Requirement already satisfied: aiohttp>=3.7 in /usr/local/lib/python3.12/dist-packages (from ray[all]) (3.12.15)\n",
            "Collecting celery (from ray[all])\n",
            "  Downloading celery-5.5.3-py3-none-any.whl.metadata (22 kB)\n",
            "Collecting watchfiles (from ray[all])\n",
            "  Downloading watchfiles-1.1.0-cp312-cp312-manylinux_2_17_x86_64.manylinux2014_x86_64.whl.metadata (4.9 kB)\n",
            "Collecting tensorboardX>=1.9 (from ray[all])\n",
            "  Downloading tensorboardx-2.6.4-py3-none-any.whl.metadata (6.2 kB)\n",
            "Collecting lz4 (from ray[all])\n",
            "  Downloading lz4-4.4.4-cp312-cp312-manylinux_2_17_x86_64.manylinux2014_x86_64.whl.metadata (3.8 kB)\n",
            "Requirement already satisfied: pydantic!=2.0.*,!=2.1.*,!=2.2.*,!=2.3.*,!=2.4.*,<3 in /usr/local/lib/python3.12/dist-packages (from ray[all]) (2.11.7)\n",
            "Requirement already satisfied: prometheus_client>=0.7.1 in /usr/local/lib/python3.12/dist-packages (from ray[all]) (0.22.1)\n",
            "Requirement already satisfied: fsspec in /usr/local/lib/python3.12/dist-packages (from ray[all]) (2025.3.0)\n",
            "Requirement already satisfied: starlette in /usr/local/lib/python3.12/dist-packages (from ray[all]) (0.47.3)\n",
            "Requirement already satisfied: scipy in /usr/local/lib/python3.12/dist-packages (from ray[all]) (1.16.1)\n",
            "Requirement already satisfied: opentelemetry-sdk>=1.30.0 in /usr/local/lib/python3.12/dist-packages (from ray[all]) (1.36.0)\n",
            "Requirement already satisfied: pandas>=1.3 in /usr/local/lib/python3.12/dist-packages (from ray[all]) (2.2.2)\n",
            "Requirement already satisfied: grpcio in /usr/local/lib/python3.12/dist-packages (from ray[all]) (1.74.0)\n",
            "Requirement already satisfied: pyOpenSSL in /usr/local/lib/python3.12/dist-packages (from ray[all]) (24.2.1)\n",
            "Collecting gymnasium==1.1.1 (from ray[all])\n",
            "  Downloading gymnasium-1.1.1-py3-none-any.whl.metadata (9.4 kB)\n",
            "Collecting ormsgpack==1.7.0 (from ray[all])\n",
            "  Downloading ormsgpack-1.7.0-cp312-cp312-manylinux_2_17_x86_64.manylinux2014_x86_64.whl.metadata (43 kB)\n",
            "\u001b[2K     \u001b[90m━━━━━━━━━━━━━━━━━━━━━━━━━━━━━━━━━━━━━━━━\u001b[0m \u001b[32m43.5/43.5 kB\u001b[0m \u001b[31m3.2 MB/s\u001b[0m eta \u001b[36m0:00:00\u001b[0m\n",
            "\u001b[?25hRequirement already satisfied: pyarrow>=9.0.0 in /usr/local/lib/python3.12/dist-packages (from ray[all]) (18.1.0)\n",
            "Requirement already satisfied: uvicorn[standard] in /usr/local/lib/python3.12/dist-packages (from ray[all]) (0.35.0)\n",
            "Collecting memray (from ray[all])\n",
            "  Downloading memray-1.18.0-cp312-cp312-manylinux2014_x86_64.manylinux_2_17_x86_64.whl.metadata (20 kB)\n",
            "Collecting opentelemetry-exporter-prometheus (from ray[all])\n",
            "  Downloading opentelemetry_exporter_prometheus-0.58b0-py3-none-any.whl.metadata (2.1 kB)\n",
            "Collecting colorful (from ray[all])\n",
            "  Downloading colorful-0.5.7-py2.py3-none-any.whl.metadata (16 kB)\n",
            "Collecting virtualenv!=20.21.1,>=20.0.24 (from ray[all])\n",
            "  Downloading virtualenv-20.34.0-py3-none-any.whl.metadata (4.6 kB)\n",
            "Requirement already satisfied: numpy>=1.20 in /usr/local/lib/python3.12/dist-packages (from ray[all]) (2.0.2)\n",
            "Requirement already satisfied: cupy-cuda12x in /usr/local/lib/python3.12/dist-packages (from ray[all]) (13.3.0)\n",
            "Collecting aiohttp_cors (from ray[all])\n",
            "  Downloading aiohttp_cors-0.8.1-py3-none-any.whl.metadata (20 kB)\n",
            "Requirement already satisfied: smart_open in /usr/local/lib/python3.12/dist-packages (from ray[all]) (7.3.0.post1)\n",
            "Requirement already satisfied: dm_tree in /usr/local/lib/python3.12/dist-packages (from ray[all]) (0.1.9)\n",
            "Collecting opentelemetry-proto (from ray[all])\n",
            "  Downloading opentelemetry_proto-1.37.0-py3-none-any.whl.metadata (2.3 kB)\n",
            "Collecting opencensus (from ray[all])\n",
            "  Downloading opencensus-0.11.4-py2.py3-none-any.whl.metadata (12 kB)\n",
            "Requirement already satisfied: cloudpickle>=1.2.0 in /usr/local/lib/python3.12/dist-packages (from gymnasium==1.1.1->ray[all]) (3.1.1)\n",
            "Requirement already satisfied: typing-extensions>=4.3.0 in /usr/local/lib/python3.12/dist-packages (from gymnasium==1.1.1->ray[all]) (4.15.0)\n",
            "Requirement already satisfied: farama-notifications>=0.0.1 in /usr/local/lib/python3.12/dist-packages (from gymnasium==1.1.1->ray[all]) (0.0.4)\n",
            "Requirement already satisfied: aiohappyeyeballs>=2.5.0 in /usr/local/lib/python3.12/dist-packages (from aiohttp>=3.7->ray[all]) (2.6.1)\n",
            "Requirement already satisfied: aiosignal>=1.4.0 in /usr/local/lib/python3.12/dist-packages (from aiohttp>=3.7->ray[all]) (1.4.0)\n",
            "Requirement already satisfied: attrs>=17.3.0 in /usr/local/lib/python3.12/dist-packages (from aiohttp>=3.7->ray[all]) (25.3.0)\n",
            "Requirement already satisfied: frozenlist>=1.1.1 in /usr/local/lib/python3.12/dist-packages (from aiohttp>=3.7->ray[all]) (1.7.0)\n",
            "Requirement already satisfied: multidict<7.0,>=4.5 in /usr/local/lib/python3.12/dist-packages (from aiohttp>=3.7->ray[all]) (6.6.4)\n",
            "Requirement already satisfied: propcache>=0.2.0 in /usr/local/lib/python3.12/dist-packages (from aiohttp>=3.7->ray[all]) (0.3.2)\n",
            "Requirement already satisfied: yarl<2.0,>=1.17.0 in /usr/local/lib/python3.12/dist-packages (from aiohttp>=3.7->ray[all]) (1.20.1)\n",
            "Requirement already satisfied: opentelemetry-api==1.36.0 in /usr/local/lib/python3.12/dist-packages (from opentelemetry-sdk>=1.30.0->ray[all]) (1.36.0)\n",
            "Requirement already satisfied: opentelemetry-semantic-conventions==0.57b0 in /usr/local/lib/python3.12/dist-packages (from opentelemetry-sdk>=1.30.0->ray[all]) (0.57b0)\n",
            "Requirement already satisfied: importlib-metadata<8.8.0,>=6.0 in /usr/local/lib/python3.12/dist-packages (from opentelemetry-api==1.36.0->opentelemetry-sdk>=1.30.0->ray[all]) (8.7.0)\n",
            "Requirement already satisfied: python-dateutil>=2.8.2 in /usr/local/lib/python3.12/dist-packages (from pandas>=1.3->ray[all]) (2.9.0.post0)\n",
            "Requirement already satisfied: pytz>=2020.1 in /usr/local/lib/python3.12/dist-packages (from pandas>=1.3->ray[all]) (2025.2)\n",
            "Requirement already satisfied: tzdata>=2022.7 in /usr/local/lib/python3.12/dist-packages (from pandas>=1.3->ray[all]) (2025.2)\n",
            "Requirement already satisfied: annotated-types>=0.6.0 in /usr/local/lib/python3.12/dist-packages (from pydantic!=2.0.*,!=2.1.*,!=2.2.*,!=2.3.*,!=2.4.*,<3->ray[all]) (0.7.0)\n",
            "Requirement already satisfied: pydantic-core==2.33.2 in /usr/local/lib/python3.12/dist-packages (from pydantic!=2.0.*,!=2.1.*,!=2.2.*,!=2.3.*,!=2.4.*,<3->ray[all]) (2.33.2)\n",
            "Requirement already satisfied: typing-inspection>=0.4.0 in /usr/local/lib/python3.12/dist-packages (from pydantic!=2.0.*,!=2.1.*,!=2.2.*,!=2.3.*,!=2.4.*,<3->ray[all]) (0.4.1)\n",
            "Collecting distlib<1,>=0.3.7 (from virtualenv!=20.21.1,>=20.0.24->ray[all])\n",
            "  Downloading distlib-0.4.0-py2.py3-none-any.whl.metadata (5.2 kB)\n",
            "Requirement already satisfied: platformdirs<5,>=3.9.1 in /usr/local/lib/python3.12/dist-packages (from virtualenv!=20.21.1,>=20.0.24->ray[all]) (4.4.0)\n",
            "Collecting billiard<5.0,>=4.2.1 (from celery->ray[all])\n",
            "  Downloading billiard-4.2.1-py3-none-any.whl.metadata (4.4 kB)\n",
            "Collecting kombu<5.6,>=5.5.2 (from celery->ray[all])\n",
            "  Downloading kombu-5.5.4-py3-none-any.whl.metadata (3.5 kB)\n",
            "Collecting vine<6.0,>=5.1.0 (from celery->ray[all])\n",
            "  Downloading vine-5.1.0-py3-none-any.whl.metadata (2.7 kB)\n",
            "Collecting click-didyoumean>=0.3.0 (from celery->ray[all])\n",
            "  Downloading click_didyoumean-0.3.1-py3-none-any.whl.metadata (3.9 kB)\n",
            "Collecting click-repl>=0.2.0 (from celery->ray[all])\n",
            "  Downloading click_repl-0.3.0-py3-none-any.whl.metadata (3.6 kB)\n",
            "Collecting click-plugins>=1.1.1 (from celery->ray[all])\n",
            "  Downloading click_plugins-1.1.1.2-py2.py3-none-any.whl.metadata (6.5 kB)\n",
            "Requirement already satisfied: fastrlock>=0.5 in /usr/local/lib/python3.12/dist-packages (from cupy-cuda12x->ray[all]) (0.8.3)\n",
            "Requirement already satisfied: absl-py>=0.6.1 in /usr/local/lib/python3.12/dist-packages (from dm_tree->ray[all]) (1.4.0)\n",
            "Requirement already satisfied: wrapt>=1.11.2 in /usr/local/lib/python3.12/dist-packages (from dm_tree->ray[all]) (1.17.3)\n",
            "Requirement already satisfied: anyio<5,>=3.6.2 in /usr/local/lib/python3.12/dist-packages (from starlette->ray[all]) (4.10.0)\n",
            "Requirement already satisfied: jsonschema-specifications>=2023.03.6 in /usr/local/lib/python3.12/dist-packages (from jsonschema->ray[all]) (2025.4.1)\n",
            "Requirement already satisfied: referencing>=0.28.4 in /usr/local/lib/python3.12/dist-packages (from jsonschema->ray[all]) (0.36.2)\n",
            "Requirement already satisfied: rpds-py>=0.7.1 in /usr/local/lib/python3.12/dist-packages (from jsonschema->ray[all]) (0.27.1)\n",
            "Requirement already satisfied: jinja2>=2.9 in /usr/local/lib/python3.12/dist-packages (from memray->ray[all]) (3.1.6)\n",
            "Requirement already satisfied: rich>=11.2.0 in /usr/local/lib/python3.12/dist-packages (from memray->ray[all]) (13.9.4)\n",
            "Collecting textual>=0.41.0 (from memray->ray[all])\n",
            "  Downloading textual-6.1.0-py3-none-any.whl.metadata (9.1 kB)\n",
            "Collecting opencensus-context>=0.1.3 (from opencensus->ray[all])\n",
            "  Downloading opencensus_context-0.1.3-py2.py3-none-any.whl.metadata (3.3 kB)\n",
            "Requirement already satisfied: six~=1.16 in /usr/local/lib/python3.12/dist-packages (from opencensus->ray[all]) (1.17.0)\n",
            "Requirement already satisfied: google-api-core<3.0.0,>=1.0.0 in /usr/local/lib/python3.12/dist-packages (from opencensus->ray[all]) (2.25.1)\n",
            "Collecting opentelemetry-sdk>=1.30.0 (from ray[all])\n",
            "  Downloading opentelemetry_sdk-1.37.0-py3-none-any.whl.metadata (1.5 kB)\n",
            "INFO: pip is looking at multiple versions of opentelemetry-sdk to determine which version is compatible with other requirements. This could take a while.\n",
            "Collecting opentelemetry-exporter-prometheus (from ray[all])\n",
            "  Downloading opentelemetry_exporter_prometheus-0.57b0-py3-none-any.whl.metadata (1.8 kB)\n",
            "Requirement already satisfied: cryptography<44,>=41.0.5 in /usr/local/lib/python3.12/dist-packages (from pyOpenSSL->ray[all]) (43.0.3)\n",
            "Requirement already satisfied: charset_normalizer<4,>=2 in /usr/local/lib/python3.12/dist-packages (from requests->ray[all]) (3.4.3)\n",
            "Requirement already satisfied: idna<4,>=2.5 in /usr/local/lib/python3.12/dist-packages (from requests->ray[all]) (3.10)\n",
            "Requirement already satisfied: urllib3<3,>=1.21.1 in /usr/local/lib/python3.12/dist-packages (from requests->ray[all]) (2.5.0)\n",
            "Requirement already satisfied: certifi>=2017.4.17 in /usr/local/lib/python3.12/dist-packages (from requests->ray[all]) (2025.8.3)\n",
            "Requirement already satisfied: h11>=0.8 in /usr/local/lib/python3.12/dist-packages (from uvicorn[standard]; extra == \"all\"->ray[all]) (0.16.0)\n",
            "Collecting httptools>=0.6.3 (from uvicorn[standard]; extra == \"all\"->ray[all])\n",
            "  Downloading httptools-0.6.4-cp312-cp312-manylinux_2_5_x86_64.manylinux1_x86_64.manylinux_2_17_x86_64.manylinux2014_x86_64.whl.metadata (3.6 kB)\n",
            "Requirement already satisfied: python-dotenv>=0.13 in /usr/local/lib/python3.12/dist-packages (from uvicorn[standard]; extra == \"all\"->ray[all]) (1.1.1)\n",
            "Collecting uvloop>=0.15.1 (from uvicorn[standard]; extra == \"all\"->ray[all])\n",
            "  Downloading uvloop-0.21.0-cp312-cp312-manylinux_2_17_x86_64.manylinux2014_x86_64.whl.metadata (4.9 kB)\n",
            "Requirement already satisfied: websockets>=10.4 in /usr/local/lib/python3.12/dist-packages (from uvicorn[standard]; extra == \"all\"->ray[all]) (15.0.1)\n",
            "Requirement already satisfied: sniffio>=1.1 in /usr/local/lib/python3.12/dist-packages (from anyio<5,>=3.6.2->starlette->ray[all]) (1.3.1)\n",
            "Requirement already satisfied: prompt-toolkit>=3.0.36 in /usr/local/lib/python3.12/dist-packages (from click-repl>=0.2.0->celery->ray[all]) (3.0.52)\n",
            "Requirement already satisfied: cffi>=1.12 in /usr/local/lib/python3.12/dist-packages (from cryptography<44,>=41.0.5->pyOpenSSL->ray[all]) (1.17.1)\n",
            "Requirement already satisfied: googleapis-common-protos<2.0.0,>=1.56.2 in /usr/local/lib/python3.12/dist-packages (from google-api-core<3.0.0,>=1.0.0->opencensus->ray[all]) (1.70.0)\n",
            "Requirement already satisfied: proto-plus<2.0.0,>=1.22.3 in /usr/local/lib/python3.12/dist-packages (from google-api-core<3.0.0,>=1.0.0->opencensus->ray[all]) (1.26.1)\n",
            "Requirement already satisfied: google-auth<3.0.0,>=2.14.1 in /usr/local/lib/python3.12/dist-packages (from google-api-core<3.0.0,>=1.0.0->opencensus->ray[all]) (2.38.0)\n",
            "Requirement already satisfied: MarkupSafe>=2.0 in /usr/local/lib/python3.12/dist-packages (from jinja2>=2.9->memray->ray[all]) (3.0.2)\n",
            "Collecting amqp<6.0.0,>=5.1.1 (from kombu<5.6,>=5.5.2->celery->ray[all])\n",
            "  Downloading amqp-5.3.1-py3-none-any.whl.metadata (8.9 kB)\n",
            "Requirement already satisfied: markdown-it-py>=2.2.0 in /usr/local/lib/python3.12/dist-packages (from rich>=11.2.0->memray->ray[all]) (4.0.0)\n",
            "Requirement already satisfied: pygments<3.0.0,>=2.13.0 in /usr/local/lib/python3.12/dist-packages (from rich>=11.2.0->memray->ray[all]) (2.19.2)\n",
            "Requirement already satisfied: pycparser in /usr/local/lib/python3.12/dist-packages (from cffi>=1.12->cryptography<44,>=41.0.5->pyOpenSSL->ray[all]) (2.22)\n",
            "Requirement already satisfied: cachetools<6.0,>=2.0.0 in /usr/local/lib/python3.12/dist-packages (from google-auth<3.0.0,>=2.14.1->google-api-core<3.0.0,>=1.0.0->opencensus->ray[all]) (5.5.2)\n",
            "Requirement already satisfied: pyasn1-modules>=0.2.1 in /usr/local/lib/python3.12/dist-packages (from google-auth<3.0.0,>=2.14.1->google-api-core<3.0.0,>=1.0.0->opencensus->ray[all]) (0.4.2)\n",
            "Requirement already satisfied: rsa<5,>=3.1.4 in /usr/local/lib/python3.12/dist-packages (from google-auth<3.0.0,>=2.14.1->google-api-core<3.0.0,>=1.0.0->opencensus->ray[all]) (4.9.1)\n",
            "Requirement already satisfied: zipp>=3.20 in /usr/local/lib/python3.12/dist-packages (from importlib-metadata<8.8.0,>=6.0->opentelemetry-api==1.36.0->opentelemetry-sdk>=1.30.0->ray[all]) (3.23.0)\n",
            "Requirement already satisfied: mdurl~=0.1 in /usr/local/lib/python3.12/dist-packages (from markdown-it-py>=2.2.0->rich>=11.2.0->memray->ray[all]) (0.1.2)\n",
            "Requirement already satisfied: linkify-it-py<3,>=1 in /usr/local/lib/python3.12/dist-packages (from markdown-it-py[linkify,plugins]>=2.1.0->textual>=0.41.0->memray->ray[all]) (2.0.3)\n",
            "Requirement already satisfied: mdit-py-plugins>=0.5.0 in /usr/local/lib/python3.12/dist-packages (from markdown-it-py[linkify,plugins]>=2.1.0->textual>=0.41.0->memray->ray[all]) (0.5.0)\n",
            "Requirement already satisfied: wcwidth in /usr/local/lib/python3.12/dist-packages (from prompt-toolkit>=3.0.36->click-repl>=0.2.0->celery->ray[all]) (0.2.13)\n",
            "Requirement already satisfied: uc-micro-py in /usr/local/lib/python3.12/dist-packages (from linkify-it-py<3,>=1->markdown-it-py[linkify,plugins]>=2.1.0->textual>=0.41.0->memray->ray[all]) (1.0.3)\n",
            "Requirement already satisfied: pyasn1<0.7.0,>=0.6.1 in /usr/local/lib/python3.12/dist-packages (from pyasn1-modules>=0.2.1->google-auth<3.0.0,>=2.14.1->google-api-core<3.0.0,>=1.0.0->opencensus->ray[all]) (0.6.1)\n",
            "Downloading gymnasium-1.1.1-py3-none-any.whl (965 kB)\n",
            "\u001b[2K   \u001b[90m━━━━━━━━━━━━━━━━━━━━━━━━━━━━━━━━━━━━━━━━\u001b[0m \u001b[32m965.4/965.4 kB\u001b[0m \u001b[31m18.7 MB/s\u001b[0m eta \u001b[36m0:00:00\u001b[0m\n",
            "\u001b[?25hDownloading ormsgpack-1.7.0-cp312-cp312-manylinux_2_17_x86_64.manylinux2014_x86_64.whl (220 kB)\n",
            "\u001b[2K   \u001b[90m━━━━━━━━━━━━━━━━━━━━━━━━━━━━━━━━━━━━━━━━\u001b[0m \u001b[32m220.9/220.9 kB\u001b[0m \u001b[31m17.5 MB/s\u001b[0m eta \u001b[36m0:00:00\u001b[0m\n",
            "\u001b[?25hDownloading py_spy-0.4.1-py2.py3-none-manylinux_2_5_x86_64.manylinux1_x86_64.whl (2.8 MB)\n",
            "\u001b[2K   \u001b[90m━━━━━━━━━━━━━━━━━━━━━━━━━━━━━━━━━━━━━━━━\u001b[0m \u001b[32m2.8/2.8 MB\u001b[0m \u001b[31m62.5 MB/s\u001b[0m eta \u001b[36m0:00:00\u001b[0m\n",
            "\u001b[?25hDownloading tensorboardx-2.6.4-py3-none-any.whl (87 kB)\n",
            "\u001b[2K   \u001b[90m━━━━━━━━━━━━━━━━━━━━━━━━━━━━━━━━━━━━━━━━\u001b[0m \u001b[32m87.2/87.2 kB\u001b[0m \u001b[31m7.2 MB/s\u001b[0m eta \u001b[36m0:00:00\u001b[0m\n",
            "\u001b[?25hDownloading virtualenv-20.34.0-py3-none-any.whl (6.0 MB)\n",
            "\u001b[2K   \u001b[90m━━━━━━━━━━━━━━━━━━━━━━━━━━━━━━━━━━━━━━━━\u001b[0m \u001b[32m6.0/6.0 MB\u001b[0m \u001b[31m75.8 MB/s\u001b[0m eta \u001b[36m0:00:00\u001b[0m\n",
            "\u001b[?25hDownloading aiohttp_cors-0.8.1-py3-none-any.whl (25 kB)\n",
            "Downloading celery-5.5.3-py3-none-any.whl (438 kB)\n",
            "\u001b[2K   \u001b[90m━━━━━━━━━━━━━━━━━━━━━━━━━━━━━━━━━━━━━━━━\u001b[0m \u001b[32m438.8/438.8 kB\u001b[0m \u001b[31m28.7 MB/s\u001b[0m eta \u001b[36m0:00:00\u001b[0m\n",
            "\u001b[?25hDownloading colorful-0.5.7-py2.py3-none-any.whl (201 kB)\n",
            "\u001b[2K   \u001b[90m━━━━━━━━━━━━━━━━━━━━━━━━━━━━━━━━━━━━━━━━\u001b[0m \u001b[32m201.5/201.5 kB\u001b[0m \u001b[31m14.8 MB/s\u001b[0m eta \u001b[36m0:00:00\u001b[0m\n",
            "\u001b[?25hDownloading lz4-4.4.4-cp312-cp312-manylinux_2_17_x86_64.manylinux2014_x86_64.whl (1.3 MB)\n",
            "\u001b[2K   \u001b[90m━━━━━━━━━━━━━━━━━━━━━━━━━━━━━━━━━━━━━━━━\u001b[0m \u001b[32m1.3/1.3 MB\u001b[0m \u001b[31m49.1 MB/s\u001b[0m eta \u001b[36m0:00:00\u001b[0m\n",
            "\u001b[?25hDownloading memray-1.18.0-cp312-cp312-manylinux2014_x86_64.manylinux_2_17_x86_64.whl (8.1 MB)\n",
            "\u001b[2K   \u001b[90m━━━━━━━━━━━━━━━━━━━━━━━━━━━━━━━━━━━━━━━━\u001b[0m \u001b[32m8.1/8.1 MB\u001b[0m \u001b[31m74.7 MB/s\u001b[0m eta \u001b[36m0:00:00\u001b[0m\n",
            "\u001b[?25hDownloading opencensus-0.11.4-py2.py3-none-any.whl (128 kB)\n",
            "\u001b[2K   \u001b[90m━━━━━━━━━━━━━━━━━━━━━━━━━━━━━━━━━━━━━━━━\u001b[0m \u001b[32m128.2/128.2 kB\u001b[0m \u001b[31m9.0 MB/s\u001b[0m eta \u001b[36m0:00:00\u001b[0m\n",
            "\u001b[?25hDownloading opentelemetry_exporter_prometheus-0.57b0-py3-none-any.whl (12 kB)\n",
            "Downloading opentelemetry_proto-1.37.0-py3-none-any.whl (72 kB)\n",
            "\u001b[2K   \u001b[90m━━━━━━━━━━━━━━━━━━━━━━━━━━━━━━━━━━━━━━━━\u001b[0m \u001b[32m72.5/72.5 kB\u001b[0m \u001b[31m5.8 MB/s\u001b[0m eta \u001b[36m0:00:00\u001b[0m\n",
            "\u001b[?25hDownloading ray-2.49.1-cp312-cp312-manylinux2014_x86_64.whl (70.1 MB)\n",
            "\u001b[2K   \u001b[90m━━━━━━━━━━━━━━━━━━━━━━━━━━━━━━━━━━━━━━━━\u001b[0m \u001b[32m70.1/70.1 MB\u001b[0m \u001b[31m10.0 MB/s\u001b[0m eta \u001b[36m0:00:00\u001b[0m\n",
            "\u001b[?25hDownloading watchfiles-1.1.0-cp312-cp312-manylinux_2_17_x86_64.manylinux2014_x86_64.whl (452 kB)\n",
            "\u001b[2K   \u001b[90m━━━━━━━━━━━━━━━━━━━━━━━━━━━━━━━━━━━━━━━━\u001b[0m \u001b[32m452.2/452.2 kB\u001b[0m \u001b[31m29.4 MB/s\u001b[0m eta \u001b[36m0:00:00\u001b[0m\n",
            "\u001b[?25hDownloading billiard-4.2.1-py3-none-any.whl (86 kB)\n",
            "\u001b[2K   \u001b[90m━━━━━━━━━━━━━━━━━━━━━━━━━━━━━━━━━━━━━━━━\u001b[0m \u001b[32m86.8/86.8 kB\u001b[0m \u001b[31m5.6 MB/s\u001b[0m eta \u001b[36m0:00:00\u001b[0m\n",
            "\u001b[?25hDownloading click_didyoumean-0.3.1-py3-none-any.whl (3.6 kB)\n",
            "Downloading click_plugins-1.1.1.2-py2.py3-none-any.whl (11 kB)\n",
            "Downloading click_repl-0.3.0-py3-none-any.whl (10 kB)\n",
            "Downloading distlib-0.4.0-py2.py3-none-any.whl (469 kB)\n",
            "\u001b[2K   \u001b[90m━━━━━━━━━━━━━━━━━━━━━━━━━━━━━━━━━━━━━━━━\u001b[0m \u001b[32m469.0/469.0 kB\u001b[0m \u001b[31m22.6 MB/s\u001b[0m eta \u001b[36m0:00:00\u001b[0m\n",
            "\u001b[?25hDownloading httptools-0.6.4-cp312-cp312-manylinux_2_5_x86_64.manylinux1_x86_64.manylinux_2_17_x86_64.manylinux2014_x86_64.whl (510 kB)\n",
            "\u001b[2K   \u001b[90m━━━━━━━━━━━━━━━━━━━━━━━━━━━━━━━━━━━━━━━━\u001b[0m \u001b[32m510.8/510.8 kB\u001b[0m \u001b[31m32.9 MB/s\u001b[0m eta \u001b[36m0:00:00\u001b[0m\n",
            "\u001b[?25hDownloading kombu-5.5.4-py3-none-any.whl (210 kB)\n",
            "\u001b[2K   \u001b[90m━━━━━━━━━━━━━━━━━━━━━━━━━━━━━━━━━━━━━━━━\u001b[0m \u001b[32m210.0/210.0 kB\u001b[0m \u001b[31m14.7 MB/s\u001b[0m eta \u001b[36m0:00:00\u001b[0m\n",
            "\u001b[?25hDownloading vine-5.1.0-py3-none-any.whl (9.6 kB)\n",
            "Downloading opencensus_context-0.1.3-py2.py3-none-any.whl (5.1 kB)\n",
            "Downloading textual-6.1.0-py3-none-any.whl (707 kB)\n",
            "\u001b[2K   \u001b[90m━━━━━━━━━━━━━━━━━━━━━━━━━━━━━━━━━━━━━━━━\u001b[0m \u001b[32m707.8/707.8 kB\u001b[0m \u001b[31m40.3 MB/s\u001b[0m eta \u001b[36m0:00:00\u001b[0m\n",
            "\u001b[?25hDownloading uvloop-0.21.0-cp312-cp312-manylinux_2_17_x86_64.manylinux2014_x86_64.whl (4.7 MB)\n",
            "\u001b[2K   \u001b[90m━━━━━━━━━━━━━━━━━━━━━━━━━━━━━━━━━━━━━━━━\u001b[0m \u001b[32m4.7/4.7 MB\u001b[0m \u001b[31m104.0 MB/s\u001b[0m eta \u001b[36m0:00:00\u001b[0m\n",
            "\u001b[?25hDownloading amqp-5.3.1-py3-none-any.whl (50 kB)\n",
            "\u001b[2K   \u001b[90m━━━━━━━━━━━━━━━━━━━━━━━━━━━━━━━━━━━━━━━━\u001b[0m \u001b[32m50.9/50.9 kB\u001b[0m \u001b[31m3.3 MB/s\u001b[0m eta \u001b[36m0:00:00\u001b[0m\n",
            "\u001b[?25hInstalling collected packages: py-spy, opencensus-context, distlib, colorful, virtualenv, vine, uvloop, tensorboardX, ormsgpack, opentelemetry-proto, lz4, httptools, gymnasium, click-plugins, click-didyoumean, billiard, watchfiles, click-repl, amqp, kombu, aiohttp_cors, textual, ray, opencensus, celery, opentelemetry-exporter-prometheus, memray\n",
            "  Attempting uninstall: gymnasium\n",
            "    Found existing installation: gymnasium 1.2.0\n",
            "    Uninstalling gymnasium-1.2.0:\n",
            "      Successfully uninstalled gymnasium-1.2.0\n",
            "Successfully installed aiohttp_cors-0.8.1 amqp-5.3.1 billiard-4.2.1 celery-5.5.3 click-didyoumean-0.3.1 click-plugins-1.1.1.2 click-repl-0.3.0 colorful-0.5.7 distlib-0.4.0 gymnasium-1.1.1 httptools-0.6.4 kombu-5.5.4 lz4-4.4.4 memray-1.18.0 opencensus-0.11.4 opencensus-context-0.1.3 opentelemetry-exporter-prometheus-0.57b0 opentelemetry-proto-1.37.0 ormsgpack-1.7.0 py-spy-0.4.1 ray-2.49.1 tensorboardX-2.6.4 textual-6.1.0 uvloop-0.21.0 vine-5.1.0 virtualenv-20.34.0 watchfiles-1.1.0\n"
          ]
        },
        {
          "output_type": "display_data",
          "data": {
            "application/vnd.colab-display-data+json": {
              "pip_warning": {
                "packages": [
                  "opentelemetry"
                ]
              },
              "id": "76bcca434233435a8bfa7740484f02c3"
            }
          },
          "metadata": {}
        }
      ]
    },
    {
      "cell_type": "code",
      "execution_count": 1,
      "id": "42b0bdbc-3bcf-4975-9590-f8ae9cb5bfd7",
      "metadata": {
        "id": "42b0bdbc-3bcf-4975-9590-f8ae9cb5bfd7",
        "outputId": "886605ae-1387-420d-c732-0405cbabfbc9",
        "colab": {
          "base_uri": "https://localhost:8080/",
          "height": 349
        }
      },
      "outputs": [
        {
          "output_type": "error",
          "ename": "ModuleNotFoundError",
          "evalue": "No module named 'ray'",
          "traceback": [
            "\u001b[0;31m---------------------------------------------------------------------------\u001b[0m",
            "\u001b[0;31mModuleNotFoundError\u001b[0m                       Traceback (most recent call last)",
            "\u001b[0;32m/tmp/ipython-input-2655083713.py\u001b[0m in \u001b[0;36m<cell line: 0>\u001b[0;34m()\u001b[0m\n\u001b[1;32m      5\u001b[0m \u001b[0;32mimport\u001b[0m \u001b[0mnumpy\u001b[0m \u001b[0;32mas\u001b[0m \u001b[0mnp\u001b[0m\u001b[0;34m\u001b[0m\u001b[0;34m\u001b[0m\u001b[0m\n\u001b[1;32m      6\u001b[0m \u001b[0;32mfrom\u001b[0m \u001b[0mnumpy\u001b[0m \u001b[0;32mimport\u001b[0m \u001b[0mloadtxt\u001b[0m\u001b[0;34m\u001b[0m\u001b[0;34m\u001b[0m\u001b[0m\n\u001b[0;32m----> 7\u001b[0;31m \u001b[0;32mimport\u001b[0m \u001b[0mray\u001b[0m\u001b[0;34m\u001b[0m\u001b[0;34m\u001b[0m\u001b[0m\n\u001b[0m",
            "\u001b[0;31mModuleNotFoundError\u001b[0m: No module named 'ray'",
            "",
            "\u001b[0;31m---------------------------------------------------------------------------\u001b[0;32m\nNOTE: If your import is failing due to a missing package, you can\nmanually install dependencies using either !pip or !apt.\n\nTo view examples of installing some common dependencies, click the\n\"Open Examples\" button below.\n\u001b[0;31m---------------------------------------------------------------------------\u001b[0m\n"
          ],
          "errorDetails": {
            "actions": [
              {
                "action": "open_url",
                "actionText": "Open Examples",
                "url": "/notebooks/snippets/importing_libraries.ipynb"
              }
            ]
          }
        }
      ],
      "source": [
        "import os\n",
        "import time\n",
        "import logging\n",
        "\n",
        "import numpy as np\n",
        "from numpy import loadtxt\n",
        "import ray"
      ]
    },
    {
      "cell_type": "markdown",
      "id": "ea926840-ada3-4566-98eb-e594585374e6",
      "metadata": {
        "tags": [],
        "id": "ea926840-ada3-4566-98eb-e594585374e6"
      },
      "source": [
        "## 1. Tasks Parallel Pattern\n",
        "\n",
        "Ray converts decorated functions into stateless tasks, scheduled anywhere on a ray worker in the cluster by simply adding the `@ray.remote` decorator.\n",
        "All these functions are converted into Ray stateless tasks that will be executed on some worker process on a Ray cluster.\n",
        "\n",
        "Where they will be executed (and by whom), you don't have to worry about its details. All that is taken care for you. Nor do\n",
        "you have to reason about it — all that burden is Ray's job. You simply take your existing Python functions and\n",
        "covert them into stateless *Ray Tasks*: as simple as that!"
      ]
    },
    {
      "cell_type": "markdown",
      "id": "1ed92720-2083-4dfd-9894-45bbf56f984f",
      "metadata": {
        "id": "1ed92720-2083-4dfd-9894-45bbf56f984f"
      },
      "source": [
        "### Example 1: Serial vs Parallelism\n",
        "\n",
        "Let's look at simple tasks running serially and then in parallel\n"
      ]
    },
    {
      "cell_type": "code",
      "execution_count": null,
      "id": "a7f1368a-b796-4f48-a296-a2d106e01e35",
      "metadata": {
        "id": "a7f1368a-b796-4f48-a296-a2d106e01e35"
      },
      "outputs": [],
      "source": [
        "# A regular Python function.\n",
        "def regular_function():\n",
        "    return 1"
      ]
    },
    {
      "cell_type": "code",
      "execution_count": null,
      "id": "5cdd2e3b-bb52-4e16-ac8a-0fa40cabab49",
      "metadata": {
        "id": "5cdd2e3b-bb52-4e16-ac8a-0fa40cabab49"
      },
      "outputs": [],
      "source": [
        "# A Ray remote function.\n",
        "@ray.remote\n",
        "def remote_function():\n",
        "    return 1"
      ]
    },
    {
      "cell_type": "markdown",
      "id": "cf2bdf39-b488-4d64-8900-ce9d46408e67",
      "metadata": {
        "id": "cf2bdf39-b488-4d64-8900-ce9d46408e67"
      },
      "source": [
        "There are a few key differences between the original function and the decorated one:\n",
        "\n",
        "**Invocation**: The regular version is called with `regular_function()`, whereas the remote version is called with `remote_function.remote()`.\n",
        "\n",
        "**Return values**: regular_function executes synchronously and returns the result of the function (1), whereas remote_function immediately returns an `ObjectID` (a future) and then executes the task in the background on a separate worker process. The result of the future can be obtained by calling `ray.get` on the `ObjectID`. This is a blocking function."
      ]
    },
    {
      "cell_type": "code",
      "execution_count": null,
      "id": "6d093793-d7d8-4558-b0c0-341333eeeaa0",
      "metadata": {
        "id": "6d093793-d7d8-4558-b0c0-341333eeeaa0",
        "outputId": "06fe0c22-2b8d-4a46-98f9-0c451dded2f0"
      },
      "outputs": [
        {
          "data": {
            "text/plain": [
              "1"
            ]
          },
          "execution_count": 4,
          "metadata": {},
          "output_type": "execute_result"
        }
      ],
      "source": [
        "# Let's invoke the regular function\n",
        "regular_function()"
      ]
    },
    {
      "cell_type": "code",
      "execution_count": null,
      "id": "4c0984c8-08f2-4106-bd64-e387420bf34b",
      "metadata": {
        "id": "4c0984c8-08f2-4106-bd64-e387420bf34b",
        "outputId": "53223929-a7ee-4d5b-d84d-7791afdf64a5"
      },
      "outputs": [
        {
          "data": {
            "text/plain": [
              "{'node_ip_address': '127.0.0.1',\n",
              " 'raylet_ip_address': '127.0.0.1',\n",
              " 'redis_address': None,\n",
              " 'object_store_address': '/tmp/ray/session_2022-03-16_15-49-02_058599_57258/sockets/plasma_store',\n",
              " 'raylet_socket_name': '/tmp/ray/session_2022-03-16_15-49-02_058599_57258/sockets/raylet',\n",
              " 'webui_url': '127.0.0.1:8265',\n",
              " 'session_dir': '/tmp/ray/session_2022-03-16_15-49-02_058599_57258',\n",
              " 'metrics_export_port': 63932,\n",
              " 'gcs_address': '127.0.0.1:57691',\n",
              " 'address': '127.0.0.1:57691',\n",
              " 'node_id': '75929d6f0a557faa632cdc523460ba85c8f6df8a9fcfa645e0d6ac4a'}"
            ]
          },
          "execution_count": 5,
          "metadata": {},
          "output_type": "execute_result"
        }
      ],
      "source": [
        "ray.init(\n",
        "    ignore_reinit_error=True,\n",
        "    logging_level=logging.ERROR,\n",
        ")"
      ]
    },
    {
      "cell_type": "code",
      "execution_count": null,
      "id": "0842a5c9-b47f-4377-b1c6-8562ca8dbe9d",
      "metadata": {
        "id": "0842a5c9-b47f-4377-b1c6-8562ca8dbe9d",
        "outputId": "0cf7a189-cc35-442c-898d-0ce56f0d0d70"
      },
      "outputs": [
        {
          "data": {
            "text/plain": [
              "ObjectRef(c8ef45ccd0112571ffffffffffffffffffffffff0100000001000000)"
            ]
          },
          "execution_count": 6,
          "metadata": {},
          "output_type": "execute_result"
        }
      ],
      "source": [
        "# Let's invoke the remote regular function.\n",
        "remote_function.remote()"
      ]
    },
    {
      "cell_type": "code",
      "execution_count": null,
      "id": "1648deeb-3272-46d6-abf9-e83cfca0d10e",
      "metadata": {
        "id": "1648deeb-3272-46d6-abf9-e83cfca0d10e",
        "outputId": "3caea561-a2a6-49f0-e9f2-089659909257"
      },
      "outputs": [
        {
          "data": {
            "text/plain": [
              "1"
            ]
          },
          "execution_count": 7,
          "metadata": {},
          "output_type": "execute_result"
        }
      ],
      "source": [
        "ray.get(remote_function.remote())"
      ]
    },
    {
      "cell_type": "markdown",
      "id": "18624b7a-b77b-4db3-8ee4-070a1fd1eb1c",
      "metadata": {
        "id": "18624b7a-b77b-4db3-8ee4-070a1fd1eb1c"
      },
      "source": [
        "**No Parallelism**: Invocations of `regular_function` in a loop happen `serially`:"
      ]
    },
    {
      "cell_type": "code",
      "execution_count": null,
      "id": "252445c7-a53a-4d84-9c67-686fb2ce2ace",
      "metadata": {
        "id": "252445c7-a53a-4d84-9c67-686fb2ce2ace"
      },
      "outputs": [],
      "source": [
        "# These are executed one at a time, back-to-back.\n",
        "result = 0\n",
        "for _ in range(10):\n",
        "    result += regular_function()\n",
        "assert result == 10"
      ]
    },
    {
      "cell_type": "markdown",
      "id": "88681bcc-ba49-4d68-b9c7-147907549a73",
      "metadata": {
        "id": "88681bcc-ba49-4d68-b9c7-147907549a73"
      },
      "source": [
        "**Parallelism**: Invocations of `remote_function` in a loop happen `asynchronously` and in parallel:"
      ]
    },
    {
      "cell_type": "code",
      "execution_count": null,
      "id": "54c40bf2-ca0e-4a71-a570-3853db84d40a",
      "metadata": {
        "id": "54c40bf2-ca0e-4a71-a570-3853db84d40a"
      },
      "outputs": [],
      "source": [
        "# Executing these functions happens at the same time in the background, and we get the results using ray.get.\n",
        "results = []\n",
        "for _ in range(10):\n",
        "    results.append(remote_function.remote())\n",
        "assert sum(ray.get(results)) == 10"
      ]
    },
    {
      "cell_type": "markdown",
      "id": "e789e133-9b12-4518-831a-b78fa0430705",
      "metadata": {
        "id": "e789e133-9b12-4518-831a-b78fa0430705"
      },
      "source": [
        "### Example 2: Adding two np arrays\n",
        "\n",
        "<img src=\"https://github.com/thimotyb/academy-ray/blob/main/images/task_api_add_array.png?raw=1\" width=\"60%\" height=\"40%\">"
      ]
    },
    {
      "cell_type": "markdown",
      "id": "3e076e93-3ed7-4acc-88ad-8a4115b568b3",
      "metadata": {
        "id": "3e076e93-3ed7-4acc-88ad-8a4115b568b3"
      },
      "source": [
        "Define a function as a Ray task to read an array"
      ]
    },
    {
      "cell_type": "code",
      "execution_count": null,
      "id": "54f1ed66-7169-42f0-b952-6298dd01ab42",
      "metadata": {
        "id": "54f1ed66-7169-42f0-b952-6298dd01ab42"
      },
      "outputs": [],
      "source": [
        "@ray.remote\n",
        "def read_array(fn: str) -> np.array:\n",
        "    arr = loadtxt(fn, comments=\"#\", delimiter=\",\", unpack=False)\n",
        "    return arr.astype('int')"
      ]
    },
    {
      "cell_type": "markdown",
      "id": "51619a9a-1f41-4678-a9ae-d2831713d247",
      "metadata": {
        "id": "51619a9a-1f41-4678-a9ae-d2831713d247"
      },
      "source": [
        "Define a function as a Ray task to add two np arrays return the sum"
      ]
    },
    {
      "cell_type": "code",
      "execution_count": null,
      "id": "c5e543c9-7b67-4776-b8d8-2a4bbbded604",
      "metadata": {
        "id": "c5e543c9-7b67-4776-b8d8-2a4bbbded604"
      },
      "outputs": [],
      "source": [
        "@ray.remote\n",
        "def add_array(arr1: np.array, arr2: np.array) -> np.array:\n",
        "    return np.add(arr1, arr1)"
      ]
    },
    {
      "cell_type": "markdown",
      "id": "7f7b4888-7116-4141-a170-744f9e31ae33",
      "metadata": {
        "id": "7f7b4888-7116-4141-a170-744f9e31ae33"
      },
      "source": [
        "Define a function as a Ray task to sum the contents of an np array"
      ]
    },
    {
      "cell_type": "code",
      "execution_count": null,
      "id": "2c1aee3b-9b15-4653-a46a-b0e0e3ee8a3a",
      "metadata": {
        "id": "2c1aee3b-9b15-4653-a46a-b0e0e3ee8a3a"
      },
      "outputs": [],
      "source": [
        "@ray.remote\n",
        "def sum_array(arr1: np.array) -> int:\n",
        "    return np.sum(arr1)"
      ]
    },
    {
      "cell_type": "markdown",
      "id": "b6d982e4-0f9b-4255-a416-e157a6943870",
      "metadata": {
        "id": "b6d982e4-0f9b-4255-a416-e157a6943870"
      },
      "source": [
        "Now let's execute our tasks. But first, we have to initialize Ray. For now we will run Ray locally on our laptop, with a single node, including its headnode,\n",
        "and use all the cores available.\n",
        "\n",
        "Ray executes immediately and returns an object reference `ObjectRef` as a future. This enables Ray to parallelize tasks and execute them asynchronously.\n",
        "\n",
        "But first let's initialize ray."
      ]
    },
    {
      "cell_type": "markdown",
      "id": "647c56ed-ff55-481e-8445-290159232d61",
      "metadata": {
        "id": "647c56ed-ff55-481e-8445-290159232d61"
      },
      "source": [
        "### Read both arrays.\n",
        "\n",
        "Use the `func_name.remote(args)` extention to invoke a remote Ray Task"
      ]
    },
    {
      "cell_type": "code",
      "execution_count": null,
      "id": "16389983-334b-4b1b-9982-5343d512e8c2",
      "metadata": {
        "id": "16389983-334b-4b1b-9982-5343d512e8c2",
        "outputId": "a00b9611-56c5-4942-c05d-935836832674"
      },
      "outputs": [
        {
          "name": "stdout",
          "output_type": "stream",
          "text": [
            "array 1: ObjectRef(85748392bcd969ccffffffffffffffffffffffff0100000001000000)\n"
          ]
        }
      ],
      "source": [
        "obj_ref_arr1 = read_array.remote(\"data/file_1.txt\")\n",
        "print(f\"array 1: {obj_ref_arr1}\")"
      ]
    },
    {
      "cell_type": "code",
      "execution_count": null,
      "id": "866e4bdc-04e2-4629-b13c-a55a1be08621",
      "metadata": {
        "id": "866e4bdc-04e2-4629-b13c-a55a1be08621",
        "outputId": "5b83214a-d299-47d5-bf16-2d0bf070aca1"
      },
      "outputs": [
        {
          "name": "stdout",
          "output_type": "stream",
          "text": [
            "array 2: ObjectRef(d695f922effe6d99ffffffffffffffffffffffff0100000001000000)\n"
          ]
        }
      ],
      "source": [
        "obj_ref_arr2 = read_array.remote(\"data/file_2.txt\")\n",
        "print(f\"array 2: {obj_ref_arr2}\")"
      ]
    },
    {
      "cell_type": "markdown",
      "id": "e7cc20ed-4f1e-4ec3-a8d3-1959b398175a",
      "metadata": {
        "id": "e7cc20ed-4f1e-4ec3-a8d3-1959b398175a"
      },
      "source": [
        "### Add both arrays\n",
        "\n",
        "Let's add our two arrays by calling the remote method. *Note*: We are sending Ray `ObjectRef` references as arguments.Those will be resolved inline and fetched from owner. Note that node that creates the ref owns them and stores it in its object store.\n",
        "\n",
        "Ray scheduler is aware of where these object references reside or who owns them, so it will schedule this remote task on node on the worker process for data locality."
      ]
    },
    {
      "cell_type": "code",
      "execution_count": null,
      "id": "c8195bf8-9f4e-421d-8955-0c0e8c851134",
      "metadata": {
        "id": "c8195bf8-9f4e-421d-8955-0c0e8c851134",
        "outputId": "e1710af4-5c65-4714-e1f1-6f9710cc6d27"
      },
      "outputs": [
        {
          "data": {
            "text/plain": [
              "ObjectRef(2751d69548dba956ffffffffffffffffffffffff0100000001000000)"
            ]
          },
          "execution_count": 15,
          "metadata": {},
          "output_type": "execute_result"
        }
      ],
      "source": [
        "result_obj_ref = add_array.remote(obj_ref_arr1, obj_ref_arr2)\n",
        "result_obj_ref"
      ]
    },
    {
      "cell_type": "markdown",
      "id": "d346857a-d91b-4b5c-8f31-db907179beb5",
      "metadata": {
        "id": "d346857a-d91b-4b5c-8f31-db907179beb5"
      },
      "source": [
        "### Fetch the result\n",
        "\n",
        "This will block if not finished"
      ]
    },
    {
      "cell_type": "code",
      "execution_count": null,
      "id": "e642440b-e29c-4fb7-9c51-2390720d9146",
      "metadata": {
        "id": "e642440b-e29c-4fb7-9c51-2390720d9146",
        "outputId": "bd01b85d-6adc-4710-9d7f-ac2998ac1056"
      },
      "outputs": [
        {
          "name": "stdout",
          "output_type": "stream",
          "text": [
            "Result: add arr1 + arr2: \n",
            " [[  0  96 144 150 108 178 168 136  18  76]\n",
            " [  6  80 146 116  20  70 192  12 130  66]\n",
            " [110 134  24 194 104 146  14 152  78 100]\n",
            " [118  68  40  80 184 110  22  78 186  76]\n",
            " [178 178  74 104  96 172  98   6  38 100]\n",
            " [168  74 136  22  40  72  92 122 104 154]\n",
            " [140 180 112 110  98 152 188  56  64  46]\n",
            " [ 10  88 184  30 106 126 174 150 122  50]\n",
            " [102 116  58  60 186 188 104 144 160  54]\n",
            " [  2  56 164  70 178  72  20 168 170 130]]\n"
          ]
        }
      ],
      "source": [
        "result = ray.get(result_obj_ref)\n",
        "print(f\"Result: add arr1 + arr2: \\n {result}\")"
      ]
    },
    {
      "cell_type": "markdown",
      "id": "3a5a5322-649a-473f-bb29-103f992f53dc",
      "metadata": {
        "id": "3a5a5322-649a-473f-bb29-103f992f53dc"
      },
      "source": [
        "Add the array elements and get the sum\n",
        "Note we are sending objRefs as arguments to the function\n",
        "Ray will resolve or fetch the value of these arrays."
      ]
    },
    {
      "cell_type": "code",
      "execution_count": null,
      "id": "387ce8d5-fc95-4417-8c8f-756ac4ea2c5f",
      "metadata": {
        "id": "387ce8d5-fc95-4417-8c8f-756ac4ea2c5f"
      },
      "outputs": [],
      "source": [
        "sum_1 = ray.get(sum_array.remote(obj_ref_arr1))\n",
        "sum_2 = ray.get(sum_array.remote(obj_ref_arr2))"
      ]
    },
    {
      "cell_type": "code",
      "execution_count": null,
      "id": "62dc9863-8766-49bd-948e-d7270a83a82a",
      "metadata": {
        "id": "62dc9863-8766-49bd-948e-d7270a83a82a",
        "outputId": "81c77f31-475f-464e-a880-7b66df8cb86c"
      },
      "outputs": [
        {
          "name": "stdout",
          "output_type": "stream",
          "text": [
            "Sum of arr1: 5173\n",
            "Sum of arr2: 7719\n"
          ]
        }
      ],
      "source": [
        "print(f'Sum of arr1: {sum_1}')\n",
        "print(f'Sum of arr2: {sum_2}')"
      ]
    },
    {
      "cell_type": "markdown",
      "id": "c30303db-5f78-4d84-b1ef-ef61f8dbb978",
      "metadata": {
        "id": "c30303db-5f78-4d84-b1ef-ef61f8dbb978"
      },
      "source": [
        "### Example 3: Generating Fibonnaci series\n",
        "\n",
        "Let's define two functions: one runs locally or serially, the other runs on a Ray cluster (local or remote). This example is borrowed and refactored from our blog: [Writing your First Distributed Python Application with Ray](https://www.anyscale.com/blog/writing-your-first-distributed-python-application-with-ray). (This is an excellent tutorial to get started with the concept of why and when to use Ray tasks and Ray Actors. Highly recommended read!)\n",
        "\n",
        "Another similar blog of interest is how to compute the value of **pi**: [How to scale Python multiprocessing to a cluster with one line of code](https://medium.com/distributed-computing-with-ray/how-to-scale-python-multiprocessing-to-a-cluster-with-one-line-of-code-d19f242f60ff)."
      ]
    },
    {
      "cell_type": "code",
      "execution_count": null,
      "id": "1cf54530-e125-45d4-92b3-9c6bc02f083a",
      "metadata": {
        "id": "1cf54530-e125-45d4-92b3-9c6bc02f083a"
      },
      "outputs": [],
      "source": [
        "# Local execution\n",
        "def generate_fibonacci(sequence_size):\n",
        "    fibonacci = []\n",
        "    for i in range(0, sequence_size):\n",
        "        if i < 2:\n",
        "            fibonacci.append(i)\n",
        "            continue\n",
        "        fibonacci.append(fibonacci[i-1]+fibonacci[i-2])\n",
        "    return len(fibonacci)"
      ]
    },
    {
      "cell_type": "code",
      "execution_count": null,
      "id": "22788e88-5bd4-41da-91f8-51bc4ed76a41",
      "metadata": {
        "id": "22788e88-5bd4-41da-91f8-51bc4ed76a41"
      },
      "outputs": [],
      "source": [
        "# Remote Task with just a wrapper\n",
        "@ray.remote\n",
        "def generate_fibonacci_distributed(sequence_size):\n",
        "    return generate_fibonacci(sequence_size)"
      ]
    },
    {
      "cell_type": "code",
      "execution_count": null,
      "id": "389b4b81-3627-4592-b92e-cc3d5c3601ee",
      "metadata": {
        "id": "389b4b81-3627-4592-b92e-cc3d5c3601ee",
        "outputId": "9773972d-6959-4d59-c3d9-3baf05e9235e"
      },
      "outputs": [
        {
          "data": {
            "text/plain": [
              "12"
            ]
          },
          "execution_count": 21,
          "metadata": {},
          "output_type": "execute_result"
        }
      ],
      "source": [
        "# Get the number of cores\n",
        "os.cpu_count()"
      ]
    },
    {
      "cell_type": "code",
      "execution_count": null,
      "id": "546138b1-0ec3-4f7d-b7eb-c032294fa4df",
      "metadata": {
        "id": "546138b1-0ec3-4f7d-b7eb-c032294fa4df"
      },
      "outputs": [],
      "source": [
        "# Normal Python in a single process\n",
        "def run_local(sequence_size):\n",
        "    results = [generate_fibonacci(sequence_size) for _ in range(os.cpu_count())]\n",
        "    return results"
      ]
    },
    {
      "cell_type": "code",
      "execution_count": null,
      "id": "520c97ec-d6ff-4e85-a09d-3873054d1558",
      "metadata": {
        "id": "520c97ec-d6ff-4e85-a09d-3873054d1558",
        "outputId": "8b7b3a6b-0a25-452d-8011-11e94643c469"
      },
      "outputs": [
        {
          "name": "stdout",
          "output_type": "stream",
          "text": [
            "CPU times: user 2.51 s, sys: 1.46 s, total: 3.97 s\n",
            "Wall time: 3.95 s\n"
          ]
        },
        {
          "data": {
            "text/plain": [
              "[100000,\n",
              " 100000,\n",
              " 100000,\n",
              " 100000,\n",
              " 100000,\n",
              " 100000,\n",
              " 100000,\n",
              " 100000,\n",
              " 100000,\n",
              " 100000,\n",
              " 100000,\n",
              " 100000]"
            ]
          },
          "execution_count": 23,
          "metadata": {},
          "output_type": "execute_result"
        }
      ],
      "source": [
        "%%time\n",
        "run_local(100000)"
      ]
    },
    {
      "cell_type": "code",
      "execution_count": null,
      "id": "9f8317bb-18b2-4389-836d-1e05399148de",
      "metadata": {
        "id": "9f8317bb-18b2-4389-836d-1e05399148de"
      },
      "outputs": [],
      "source": [
        "# Distributed on a Ray cluster\n",
        "def run_remote(sequence_size):\n",
        "    results = ray.get([generate_fibonacci_distributed.remote(sequence_size) for _ in range(os.cpu_count())])\n",
        "    return results"
      ]
    },
    {
      "cell_type": "code",
      "execution_count": null,
      "id": "2ca042c5-9d0d-4bcc-9522-69c7d1e95500",
      "metadata": {
        "id": "2ca042c5-9d0d-4bcc-9522-69c7d1e95500",
        "outputId": "acd42bb5-3c6c-47f8-f0c6-d671aae7598f"
      },
      "outputs": [
        {
          "name": "stdout",
          "output_type": "stream",
          "text": [
            "CPU times: user 15 ms, sys: 9.99 ms, total: 25 ms\n",
            "Wall time: 794 ms\n"
          ]
        },
        {
          "data": {
            "text/plain": [
              "[100000,\n",
              " 100000,\n",
              " 100000,\n",
              " 100000,\n",
              " 100000,\n",
              " 100000,\n",
              " 100000,\n",
              " 100000,\n",
              " 100000,\n",
              " 100000,\n",
              " 100000,\n",
              " 100000]"
            ]
          },
          "execution_count": 25,
          "metadata": {},
          "output_type": "execute_result"
        }
      ],
      "source": [
        "%%time\n",
        "run_remote(100000)"
      ]
    },
    {
      "cell_type": "markdown",
      "id": "da0e7c3f-6ba5-4e1b-9350-880b1d301f20",
      "metadata": {
        "id": "da0e7c3f-6ba5-4e1b-9350-880b1d301f20"
      },
      "source": [
        "### Concept for this Exercise - Task Dependencies\n",
        "\n",
        "Consider the following basic remote function that returns the argument passed to it. If we pass in some normal Python objects, the results returned by ray.get should be the same objects."
      ]
    },
    {
      "cell_type": "code",
      "execution_count": null,
      "id": "350c442c-54a8-4ca7-8940-a94e77164a33",
      "metadata": {
        "id": "350c442c-54a8-4ca7-8940-a94e77164a33",
        "outputId": "e5e9a340-6768-4ed2-b894-09cfbaba73f3"
      },
      "outputs": [
        {
          "data": {
            "text/plain": [
              "1"
            ]
          },
          "execution_count": 26,
          "metadata": {},
          "output_type": "execute_result"
        }
      ],
      "source": [
        "@ray.remote\n",
        "def f(x):\n",
        "    return x\n",
        "\n",
        "x1_id = f.remote(1)\n",
        "ray.get(x1_id)"
      ]
    },
    {
      "cell_type": "code",
      "execution_count": null,
      "id": "9671b6f1-c820-4de5-8122-b4acb4e39de9",
      "metadata": {
        "id": "9671b6f1-c820-4de5-8122-b4acb4e39de9",
        "outputId": "9374ea10-cb21-4ba6-e403-081e59b39325"
      },
      "outputs": [
        {
          "data": {
            "text/plain": [
              "[1, 2, 3]"
            ]
          },
          "execution_count": 27,
          "metadata": {},
          "output_type": "execute_result"
        }
      ],
      "source": [
        "x2_id = f.remote([1, 2, 3])\n",
        "ray.get(x2_id)"
      ]
    },
    {
      "cell_type": "markdown",
      "id": "9b57bb5b-371e-42f4-ac0e-c657ba32e419",
      "metadata": {
        "id": "9b57bb5b-371e-42f4-ac0e-c657ba32e419"
      },
      "source": [
        "However, `object IDs` can also be passed into remote functions. When the function is executed, Ray will automatically substitute the underlying Python object that the object ID refers to. In a sense, it's the same as calling `ray.get` on each argument that's passed in as an argument."
      ]
    },
    {
      "cell_type": "code",
      "execution_count": null,
      "id": "e3836b9c-64f1-4603-b299-166c36afb8b9",
      "metadata": {
        "id": "e3836b9c-64f1-4603-b299-166c36afb8b9",
        "outputId": "f471e1c2-0b6c-447c-b631-4317a24728a8"
      },
      "outputs": [
        {
          "data": {
            "text/plain": [
              "1"
            ]
          },
          "execution_count": 28,
          "metadata": {},
          "output_type": "execute_result"
        }
      ],
      "source": [
        "y1_id = f.remote(x1_id)\n",
        "ray.get(y1_id)"
      ]
    },
    {
      "cell_type": "code",
      "execution_count": null,
      "id": "8a2e4a57-ed3a-46d4-b646-582a644e1e4d",
      "metadata": {
        "id": "8a2e4a57-ed3a-46d4-b646-582a644e1e4d",
        "outputId": "bc30bae5-3568-42d0-f3b8-902963a9ca57"
      },
      "outputs": [
        {
          "data": {
            "text/plain": [
              "[1, 2, 3]"
            ]
          },
          "execution_count": 29,
          "metadata": {},
          "output_type": "execute_result"
        }
      ],
      "source": [
        "y2_id = f.remote(x2_id)\n",
        "ray.get(y2_id)"
      ]
    },
    {
      "cell_type": "markdown",
      "id": "92038803-c413-4bc1-b9ba-cf10801b08bc",
      "metadata": {
        "id": "92038803-c413-4bc1-b9ba-cf10801b08bc"
      },
      "source": [
        "When implementing a remote function, the function should expect a regular Python object regardless of whether the caller passes in a regular Python object or an object ID.\n",
        "\n",
        "**These task dependencies affect scheduling**. In the example above, the task that creates `y1_id` depends on the task that creates `x1_id`. This means that:\n",
        "\n",
        " * The second task will not be executed until the first task has finished executing.\n",
        " * If the two tasks are scheduled on different machines, the output of the first task (the value corresponding to x1_id) will be copied over the network to the machine where the second task is scheduled."
      ]
    },
    {
      "cell_type": "markdown",
      "id": "eaafdcd0-4dd2-4828-8879-a5c651da7ab1",
      "metadata": {
        "id": "eaafdcd0-4dd2-4828-8879-a5c651da7ab1"
      },
      "source": [
        "### Example 4: Task Dependencies: Aggregating Values Efficiently\n",
        "\n",
        "Task dependencies can be used in much more sophisticated ways. For example, suppose we wish to aggregate 8 values together. This example uses naive integer addition, but in many applications, aggregating large vectors across multiple machines can be a bottleneck. In this case, changing a single line of code can change the aggregation’s running time from linear to logarithmic in the number of values being aggregated.\n",
        "\n",
        "<img src=\"https://github.com/thimotyb/academy-ray/blob/main/images/task_dependencies_graphs.png?raw=1\" height=\"50%\" width=\"70%\">"
      ]
    },
    {
      "cell_type": "code",
      "execution_count": null,
      "id": "c09265ff-7d31-46ba-96a4-2f847759f413",
      "metadata": {
        "id": "c09265ff-7d31-46ba-96a4-2f847759f413"
      },
      "outputs": [],
      "source": [
        "# define a task to add two intergers\n",
        "@ray.remote\n",
        "def add(x, y):\n",
        "    time.sleep(1)\n",
        "    return x + y"
      ]
    },
    {
      "cell_type": "markdown",
      "id": "fd505139-8558-471a-a18c-fd466503a5b0",
      "metadata": {
        "id": "fd505139-8558-471a-a18c-fd466503a5b0"
      },
      "source": [
        "#### Add values the slow approach"
      ]
    },
    {
      "cell_type": "code",
      "execution_count": null,
      "id": "44003521-a111-4729-935f-33f6868d748e",
      "metadata": {
        "id": "44003521-a111-4729-935f-33f6868d748e"
      },
      "outputs": [],
      "source": [
        "values = [i for i in range(1, 8)]"
      ]
    },
    {
      "cell_type": "code",
      "execution_count": null,
      "id": "d8213699-6778-4fcf-9834-3b54ccc02b64",
      "metadata": {
        "id": "d8213699-6778-4fcf-9834-3b54ccc02b64",
        "outputId": "c48e446b-8d2f-418a-9be2-637c93a2eeb3"
      },
      "outputs": [
        {
          "name": "stdout",
          "output_type": "stream",
          "text": [
            "28\n",
            "CPU times: user 36.4 ms, sys: 32.8 ms, total: 69.2 ms\n",
            "Wall time: 6.04 s\n"
          ]
        }
      ],
      "source": [
        "%%time\n",
        "\n",
        "while len(values) > 1:\n",
        "    values = [add.remote(values[0], values[1])] + values[2:]\n",
        "result = ray.get(values[0])\n",
        "print(result)"
      ]
    },
    {
      "cell_type": "markdown",
      "id": "1a595a40-65bb-4c11-84de-f4c313a08dcd",
      "metadata": {
        "id": "1a595a40-65bb-4c11-84de-f4c313a08dcd"
      },
      "source": [
        "#### Add values the faster approach"
      ]
    },
    {
      "cell_type": "code",
      "execution_count": null,
      "id": "d2fabe38-8484-47e4-b2c8-a385f3201c81",
      "metadata": {
        "id": "d2fabe38-8484-47e4-b2c8-a385f3201c81",
        "outputId": "9e6d6845-4111-4408-b38c-7aa3a616692b"
      },
      "outputs": [
        {
          "name": "stdout",
          "output_type": "stream",
          "text": [
            "28\n",
            "CPU times: user 532 µs, sys: 465 µs, total: 997 µs\n",
            "Wall time: 620 µs\n"
          ]
        }
      ],
      "source": [
        "%%time\n",
        "\n",
        "while len(values) > 1:\n",
        "    values = values[2:] + [add.remote(values[0], values[1])]\n",
        "result = ray.get(values[0])\n",
        "print(result)"
      ]
    },
    {
      "cell_type": "markdown",
      "id": "0017ef57-4f55-44ec-9c18-25b3bba016c4",
      "metadata": {
        "id": "0017ef57-4f55-44ec-9c18-25b3bba016c4"
      },
      "source": [
        "### Example 5: Concept of nested parallelism\n",
        "\n",
        "The goal of this exercise is to show how to create nested tasks by calling a remote function inside of another remote function. Remote functions can call other functions. For example, consider the following."
      ]
    },
    {
      "cell_type": "code",
      "execution_count": null,
      "id": "97e6982f-5978-48b6-a8b7-64600e10ad5d",
      "metadata": {
        "id": "97e6982f-5978-48b6-a8b7-64600e10ad5d"
      },
      "outputs": [],
      "source": [
        "@ray.remote\n",
        "def f():\n",
        "    return 1\n",
        "\n",
        "@ray.remote\n",
        "def g():\n",
        "    # Call f 4 times and return the resulting object IDs.\n",
        "    results = []\n",
        "    for _ in range(4):\n",
        "      results.append(f.remote())\n",
        "    return results\n",
        "\n",
        "@ray.remote\n",
        "def h():\n",
        "    # Call f 4 times, block until those 4 tasks finish,\n",
        "    # retrieve the results, and return the values.\n",
        "    results = []\n",
        "    for _ in range(4):\n",
        "      results.append(f.remote())\n",
        "    return ray.get(results)"
      ]
    },
    {
      "cell_type": "markdown",
      "id": "b6af2c34-3d00-4a3c-978c-b3d88258c98c",
      "metadata": {
        "id": "b6af2c34-3d00-4a3c-978c-b3d88258c98c"
      },
      "source": [
        "Then calling `g` and `h` produces the following behavior."
      ]
    },
    {
      "cell_type": "code",
      "execution_count": null,
      "id": "f96a366f-ddbe-45b6-8880-735190a4f5a9",
      "metadata": {
        "id": "f96a366f-ddbe-45b6-8880-735190a4f5a9",
        "outputId": "432eca0c-f3d3-474e-f4ea-6dcdb00e33f6"
      },
      "outputs": [
        {
          "data": {
            "text/plain": [
              "[ObjectRef(c10cfb0a68831f63ffffffffffffffffffffffff0100000001000000),\n",
              " ObjectRef(442be2bb3b849e83ffffffffffffffffffffffff0100000001000000),\n",
              " ObjectRef(3f02f8e5b1071415ffffffffffffffffffffffff0100000001000000),\n",
              " ObjectRef(f0441c3ea94d9ccaffffffffffffffffffffffff0100000001000000)]"
            ]
          },
          "execution_count": 35,
          "metadata": {},
          "output_type": "execute_result"
        }
      ],
      "source": [
        "ray.get(g.remote())"
      ]
    },
    {
      "cell_type": "code",
      "execution_count": null,
      "id": "32745779-dbfb-4327-afe3-94ba50b12010",
      "metadata": {
        "id": "32745779-dbfb-4327-afe3-94ba50b12010",
        "outputId": "5e7fcdbe-a9cb-4c8a-f571-fa07b2a142a9"
      },
      "outputs": [
        {
          "data": {
            "text/plain": [
              "[1, 1, 1, 1]"
            ]
          },
          "execution_count": 36,
          "metadata": {},
          "output_type": "execute_result"
        }
      ],
      "source": [
        "ray.get(h.remote())"
      ]
    },
    {
      "cell_type": "code",
      "execution_count": null,
      "id": "8f0256a2-ca5a-4c17-af32-022449fe3c6e",
      "metadata": {
        "id": "8f0256a2-ca5a-4c17-af32-022449fe3c6e"
      },
      "outputs": [],
      "source": [
        "# Normally will want to shutdown\n",
        "ray.shutdown()"
      ]
    },
    {
      "cell_type": "markdown",
      "id": "736292de-21cd-45cc-a103-5c7732f628ab",
      "metadata": {
        "id": "736292de-21cd-45cc-a103-5c7732f628ab"
      },
      "source": [
        "---"
      ]
    },
    {
      "cell_type": "markdown",
      "id": "446ef32f-c8e2-4d57-a2ff-ad87fa3c7af4",
      "metadata": {
        "id": "446ef32f-c8e2-4d57-a2ff-ad87fa3c7af4"
      },
      "source": [
        "### Excercises\n",
        "\n",
        "1. Try adding local bubble sort and remote bubble sort\n",
        "2. Do you see the difference for small and large numbers?"
      ]
    },
    {
      "cell_type": "markdown",
      "id": "ba2b7cec-65e3-4544-ab02-2fed100c1b38",
      "metadata": {
        "id": "ba2b7cec-65e3-4544-ab02-2fed100c1b38"
      },
      "source": [
        "### References\n",
        "\n",
        "1. [Modern Parallel and Distributed Python: A Quick Tutorial on Ray](https://towardsdatascience.com/modern-parallel-and-distributed-python-a-quick-tutorial-on-ray-99f8d70369b8) by Robert Nishihara, co-creator of Ray and co-founder Anyscale\n",
        "2. [Ray Core Introduction](https://www.anyscale.com/events/2022/02/03/introduction-to-ray-core-and-its-ecosystem) by Jules S. Damji"
      ]
    }
  ],
  "metadata": {
    "kernelspec": {
      "display_name": "Python 3 (ipykernel)",
      "language": "python",
      "name": "python3"
    },
    "language_info": {
      "codemirror_mode": {
        "name": "ipython",
        "version": 3
      },
      "file_extension": ".py",
      "mimetype": "text/x-python",
      "name": "python",
      "nbconvert_exporter": "python",
      "pygments_lexer": "ipython3",
      "version": "3.8.12"
    },
    "colab": {
      "provenance": []
    }
  },
  "nbformat": 4,
  "nbformat_minor": 5
}